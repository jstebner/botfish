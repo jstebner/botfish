{
 "cells": [
  {
   "cell_type": "code",
   "execution_count": 1,
   "metadata": {},
   "outputs": [],
   "source": [
    "import tensorflow as tf\n",
    "from tensorflow import keras\n",
    "from keras.models import model_from_json"
   ]
  },
  {
   "cell_type": "code",
   "execution_count": null,
   "metadata": {},
   "outputs": [],
   "source": [
    "with open('./laps.model.json', 'r') as file:\n",
    "    model = model_from_json(file.read())\n",
    "\n",
    "model.load_weights('./laps.weights.h5')\n",
    "model.compile(\n",
    "    optimizer = 'adam',\n",
    "    loss = '', # TODO: me\n",
    "    metrics = ['accuracy']\n",
    ")"
   ]
  }
 ],
 "metadata": {
  "kernelspec": {
   "display_name": "Python 3",
   "language": "python",
   "name": "python3"
  },
  "language_info": {
   "codemirror_mode": {
    "name": "ipython",
    "version": 3
   },
   "file_extension": ".py",
   "mimetype": "text/x-python",
   "name": "python",
   "nbconvert_exporter": "python",
   "pygments_lexer": "ipython3",
   "version": "3.10.6"
  },
  "orig_nbformat": 4,
  "vscode": {
   "interpreter": {
    "hash": "ce2a7c8c2bd993fb21e47102c46082e51ced263df92528c5e2a0eb37158784bf"
   }
  }
 },
 "nbformat": 4,
 "nbformat_minor": 2
}
